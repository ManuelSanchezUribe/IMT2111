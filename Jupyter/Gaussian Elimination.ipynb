{
 "cells": [
  {
   "cell_type": "markdown",
   "metadata": {},
   "source": [
    "# Gaussian elimination"
   ]
  },
  {
   "cell_type": "code",
   "execution_count": 1,
   "metadata": {},
   "outputs": [],
   "source": [
    "import numpy as np\n",
    "import scipy.linalg"
   ]
  },
  {
   "cell_type": "code",
   "execution_count": 47,
   "metadata": {},
   "outputs": [],
   "source": [
    "def GEPP(A, b):\n",
    "    '''\n",
    "    Gaussian elimination with partial (row) pivoting\n",
    "    input : A nonsingular and square matrix n x n \n",
    "            b vector n x 1\n",
    "    output : x solution of the system A x = b\n",
    "    '''\n",
    "    # 1. Factorize A = PLU\n",
    "    L, U, pT = LUPP(A)\n",
    "    # 2. Solve P L U x = b\n",
    "    Ptb = b[pT]\n",
    "    # 3. Solve LUx = Pt b forward substitution\n",
    "    y = forward_substitution(L, Ptb)\n",
    "    # 4. Solve Ux = L^{-1} Pt b backward substitution\n",
    "    x = backward_substitution(U,y)\n",
    "    return x\n",
    "\n",
    "\n",
    "def LUPP(Ainput):\n",
    "    '''\n",
    "    LU factorization with partial pivoting\n",
    "    '''\n",
    "    A = Ainput.copy()\n",
    "    n = A.shape[0]\n",
    "    pT = np.arange(0,n)\n",
    "    for i in range(n-1):\n",
    "        imax = abs(A[i:,i]).argmax() + i\n",
    "        pT[[i,imax]] = pT[[imax,i]]\n",
    "        if A[imax, i] == 0:\n",
    "            raise ValueError(\"Matrix is singular.\")\n",
    "        elif imax != i:\n",
    "            A[[i,imax],:] = A[[imax, i],:][:]\n",
    "        A[(i+1):n,i][:] = (A[(i+1):n,i]/A[i,i])[:]\n",
    "        A[(i+1):n, (i+1):n][:] = A[(i+1):n, (i+1):n]-np.outer(A[(i+1):n,i],A[i, (i+1):n])\n",
    "    \n",
    "    L = np.tril(A,-1)+np.eye(n)\n",
    "    U = np.triu(A)\n",
    "    return L, U, pT\n",
    "\n",
    "def forward_substitution(L,b):\n",
    "    '''\n",
    "    Forward substitution algorithm for system L x = b\n",
    "    input : L lower triangular matrix n x n\n",
    "            b vector n x 1\n",
    "    output: x solution of L x = b\n",
    "    '''\n",
    "    n = L.shape[0]\n",
    "    x = np.zeros(n)\n",
    "    x[0] = b[0]/L[0,0]\n",
    "    for i in range(1,n):\n",
    "        x[i] = (b[i] - L[i,0:i]@x[0:i])/L[i,i]\n",
    "    return x\n",
    "\n",
    "def backward_substitution(U,b):\n",
    "    '''\n",
    "    Backward substitution algorithm for system U x = b\n",
    "    input : U upper tringular matrix n x n\n",
    "            b vector n x 1\n",
    "    output : x solution of U x = b\n",
    "    '''\n",
    "    n = U.shape[0]\n",
    "    x = np.zeros(n)\n",
    "    x[n-1] = b[n-1]/U[n-1,n-1]\n",
    "    for i in range(n-2,-1,-1):\n",
    "        x[i] = (b[i] - U[i,(i+1):n]@(x[(i+1):n]))/U[i,i]\n",
    "    return x\n"
   ]
  },
  {
   "cell_type": "markdown",
   "metadata": {},
   "source": [
    "# Example. \n",
    "Consider the system $Ax = b$ with \n",
    "\\begin{equation}\n",
    "A = \n",
    "\\begin{pmatrix}\n",
    "1 & 3 & 4 & 1 \\\\ 2 & 1 & 5 & 1 \\\\ 4 & 1 & 6 & 1 \\\\ 6 & 2 & 3 & 2\n",
    "\\end{pmatrix}\n",
    "\\qquad\n",
    "b = \n",
    "\\begin{pmatrix}\n",
    "3\\\\2\\\\1\\\\3\n",
    "\\end{pmatrix}\n",
    "\\end{equation}\n",
    "\n",
    "The solution of the system is\n",
    "\\begin{equation}\n",
    "x= \n",
    "\\begin{pmatrix}\n",
    "-8/9\\\\0\\\\-1/9\\\\13/3\n",
    "\\end{pmatrix}\n",
    "\\end{equation}"
   ]
  },
  {
   "cell_type": "code",
   "execution_count": 51,
   "metadata": {},
   "outputs": [
    {
     "name": "stdout",
     "output_type": "stream",
     "text": [
      "[3. 2. 1. 3.] [3. 2. 1. 3.]\n"
     ]
    }
   ],
   "source": [
    "A0 = np.array([[1,3,4,1],[2,1,5,1],[3,1,6,1],[6,2,3,2]],dtype=np.float64)\n",
    "b0 = np.array([3,2,1,3], dtype=np.float64)\n",
    "x1 = GEPP(A0,b0)\n",
    "x2 = np.linalg.solve(A0,b0)\n",
    "print(A0@x1, A0@x2)"
   ]
  },
  {
   "cell_type": "code",
   "execution_count": null,
   "metadata": {},
   "outputs": [],
   "source": []
  }
 ],
 "metadata": {
  "kernelspec": {
   "display_name": "Python 3",
   "language": "python",
   "name": "python3"
  },
  "language_info": {
   "codemirror_mode": {
    "name": "ipython",
    "version": 3
   },
   "file_extension": ".py",
   "mimetype": "text/x-python",
   "name": "python",
   "nbconvert_exporter": "python",
   "pygments_lexer": "ipython3",
   "version": "3.8.5"
  },
  "toc": {
   "base_numbering": 1,
   "nav_menu": {},
   "number_sections": false,
   "sideBar": true,
   "skip_h1_title": false,
   "title_cell": "Table of Contents",
   "title_sidebar": "Contents",
   "toc_cell": false,
   "toc_position": {},
   "toc_section_display": true,
   "toc_window_display": false
  }
 },
 "nbformat": 4,
 "nbformat_minor": 4
}
