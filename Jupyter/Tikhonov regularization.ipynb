{
 "cells": [
  {
   "cell_type": "markdown",
   "metadata": {},
   "source": [
    "# Rank-deficient least-squares problem"
   ]
  },
  {
   "cell_type": "markdown",
   "metadata": {},
   "source": [
    "## Regularized linear least-squares proble, Tikhonov regularization\n",
    "\n",
    "\\begin{equation}\n",
    "\\min_{x\\in \\mathbb R^{n}} \\frac{1}{2} \\|Ax-b\\|_{2}^{2} + \\frac{\\tau}{2}\\|x\\|_{2}^{2}.\n",
    "\\end{equation}\n",
    "Here $\\lambda>0$ is the regularization parameter, not known a priori and it is determined based on the problem data.\n",
    "\n",
    "- SVD decomposition: $A = U\\Sigma V^{T}$, where $U\\in \\mathbb R^{m\\times m}$ and $ V\\in \\mathbb R^{m\\times n}$ and $\\Sigma \\in \\mathbb{R}^{m\\times n}$\n",
    "\\begin{equation}\n",
    "\\sigma_{1} \\geq \\ldots \\geq \\sigma_{r} > \\sigma_{r+1} = \\ldots = \\sigma_{\\min\\{m,n\\}} = 0.\n",
    "\\end{equation}\n",
    "\n",
    "### Solution of regularized least-squares problem\n",
    "\\begin{equation}\n",
    "x_{\\tau} = \\sum_{i=1}^{r} \\frac{\\sigma_{i} (u_{i}^{T}b) }{\\sigma_{i}^{2} + \\tau} v_{i}\n",
    "\\end{equation}\n",
    "\n",
    "- Note that:\n",
    "\\begin{equation}\n",
    "\\lim_{\\tau\\rightarrow 0 } x_{\\tau} = \\lim_{\\tau \\rightarrow 0} \\sum_{i=1}^{r} \\frac{\\sigma_{i} (u_{i}^{T}b) }{\\sigma_{i}^{2} + \\tau} v_{i} =   \\sum_{i=1}^{r}\\frac{(u_{i}^{T}b) }{\\sigma_{i}} v_{i} = x,\n",
    "\\end{equation}\n",
    "solution of least-squares problem\n",
    "- Regularizing property:\n",
    "\\begin{equation}\n",
    " \\frac{\\sigma_{i} (u_{i}^{T}b) }{\\sigma_{i}^{2} + \\tau} \\approx \\left\\{\n",
    " \\begin{array}{ll}\n",
    " 0,& \\mbox{if } \\sigma_{i} \\ll \\tau \\\\\n",
    "  \\frac{(u_{i}^{T}b) }{\\sigma_{i}},& \\mbox{if } \\sigma_{i}\\gg \\tau \n",
    " \\end{array} \\right.\n",
    "\\end{equation}\n",
    "\n",
    "### How to choose $\\tau$?\n",
    "Assume that $b$ is perturbed by $\\Delta b$, $\\tilde{b} = b + \\Delta b$, we want to compute solution\n",
    "\\begin{equation}\n",
    "x = \\sum_{i=1}^{r} \\frac{u_i^{T} b}{\\sigma_{i}} v_i\n",
    "\\end{equation}\n",
    "but we can only compute with $\\tilde{b}$.\n",
    "\\begin{equation}\n",
    "x_{\\tau} = \\sum_{i=1}^{r} \\left( \\frac{\\sigma_{i} (u_{i}^{T}b) }{\\sigma_{i}^{2} + \\tau}  + \n",
    " \\frac{\\sigma_{i} (u_{i}^{T}\\Delta b) }{\\sigma_{i}^{2} + \\tau} \\right) v_{i}\n",
    "\\end{equation}\n",
    "We have the same properties as before:\n",
    "- \\begin{equation}\n",
    "\\lim_{\\tau\\rightarrow 0 } x_{\\tau} = \\lim_{\\tau \\rightarrow 0}  \\sum_{i=1}^{r} \\frac{\\sigma_{i} (u_{i}^{T}b) }{\\sigma_{i}^{2} + \\tau} v_{i} =   \\sum_{i=1}^{r}\\frac{(u_{i}^{T}b) }{\\sigma_{i}} v_{i} = x,\n",
    "\\end{equation}\n",
    "- \\begin{equation}\n",
    " \\frac{\\sigma_{i} (u_{i}^{T}\\Delta b) }{\\sigma_{i}^{2} + \\tau} \\approx \\left\\{\n",
    " \\begin{array}{ll}\n",
    " 0,& \\mbox{if } \\sigma_{i} \\ll \\tau \\\\\n",
    "  \\frac{(u_{i}^{T}\\Delta b) }{\\sigma_{i}},& \\mbox{if } \\sigma_{i}\\gg \\tau \n",
    " \\end{array} \\right.\n",
    "\\end{equation}\n",
    "$\\rightarrow$ choose $\\tau$ sufficiently large to ensure that the perturbation $\\Delta b$ in the data are not magnified by small singular values."
   ]
  },
  {
   "cell_type": "code",
   "execution_count": 1,
   "metadata": {},
   "outputs": [],
   "source": [
    "import numpy as np"
   ]
  },
  {
   "cell_type": "code",
   "execution_count": 2,
   "metadata": {},
   "outputs": [
    {
     "name": "stdout",
     "output_type": "stream",
     "text": [
      "[1.e+00 1.e-01 1.e-02 1.e-03 1.e-04 1.e-05 1.e-06 1.e-07 1.e-08 1.e-09\n",
      " 1.e-10]\n",
      "[[1.e+00 1.e+00 1.e+00 1.e+00 1.e+00 1.e+00]\n",
      " [1.e+00 1.e-01 1.e-02 1.e-03 1.e-04 1.e-05]\n",
      " [1.e+00 1.e-02 1.e-04 1.e-06 1.e-08 1.e-10]\n",
      " [1.e+00 1.e-03 1.e-06 1.e-09 1.e-12 1.e-15]\n",
      " [1.e+00 1.e-04 1.e-08 1.e-12 1.e-16 1.e-20]\n",
      " [1.e+00 1.e-05 1.e-10 1.e-15 1.e-20 1.e-25]\n",
      " [1.e+00 1.e-06 1.e-12 1.e-18 1.e-24 1.e-30]\n",
      " [1.e+00 1.e-07 1.e-14 1.e-21 1.e-28 1.e-35]\n",
      " [1.e+00 1.e-08 1.e-16 1.e-24 1.e-32 1.e-40]\n",
      " [1.e+00 1.e-09 1.e-18 1.e-27 1.e-36 1.e-45]\n",
      " [1.e+00 1.e-10 1.e-20 1.e-30 1.e-40 1.e-50]]\n",
      "|b-b_exact|/|b| =  3.6707822976918126e-05\n",
      "|x-x_svd|/|x| =  199017.48108520504\n"
     ]
    }
   ],
   "source": [
    "t = np.zeros(11)\n",
    "\n",
    "for j in range(0,11):\n",
    "    t[j] = 10**(-j)\n",
    "\n",
    "#t = np.linspace(0,1,11)\n",
    "print(t)\n",
    "\n",
    "Av = np.vander(t, 6, increasing=True)\n",
    "print(Av)\n",
    "x_exact = np.ones(6)\n",
    "b_exact =  Av.dot(x_exact)\n",
    "deltab = np.multiply(0.0001*np.random.rand(b_exact.size), b_exact)#(0.5-np.diag(np.random.rand(b_exact.size)))*b_exact\n",
    "b = b_exact+deltab\n",
    "print(\"|b-b_exact|/|b| = \", np.linalg.norm(b-b_exact)/np.linalg.norm(b))\n",
    "# compute SVD of A\n",
    "U,S,V = np.linalg.svd(Av, full_matrices=False)\n",
    "\n",
    "#U,S,V = np.linalg.svd(Av)\n",
    "#print(S)\n",
    "y1 = np.dot(U.T,b)\n",
    "y2 = y1/S\n",
    "x_svd = np.dot(V.T,y2)\n",
    "print(\"|x-x_svd|/|x| = \", np.linalg.norm(x_exact-x_svd)/np.linalg.norm(x_exact))\n"
   ]
  },
  {
   "cell_type": "code",
   "execution_count": 87,
   "metadata": {},
   "outputs": [
    {
     "name": "stdout",
     "output_type": "stream",
     "text": [
      "\\sigma: [3.43155988e+00 2.05616208e+00 8.24366681e-02 7.24430072e-04\n",
      " 6.64057352e-07 5.48049344e-11]\n",
      "sigma approx  [2.68602572e-01 3.93312885e-01 8.18802261e-02 7.24429692e-04\n",
      " 6.64057352e-07 5.48049344e-11]\n",
      "sigma approx  [2.88958785e-01 4.75105341e-01 7.71909240e-01 7.24426270e-03\n",
      " 6.64057352e-06 5.48049344e-10]\n",
      "sigma approx  [2.91165401e-01 4.85195353e-01 4.90817033e+00 7.24392056e-02\n",
      " 6.64057352e-05 5.48049344e-09]\n",
      "sigma approx  [2.91387917e-01 4.86227976e-01 1.05744918e+01 7.24050091e-01\n",
      " 6.64057352e-04 5.48049344e-08]\n",
      "sigma approx  [2.91410188e-01 4.86331480e-01 1.19546126e+01 7.20648118e+00\n",
      " 6.64057349e-03 5.48049344e-07]\n",
      "sigma approx  [2.91412415e-01 4.86341833e-01 1.21127004e+01 6.88307755e+01\n",
      " 6.64057323e-02 5.48049344e-06]\n",
      "sigma approx  [2.91412637e-01 4.86342868e-01 1.21287395e+01 4.75098754e+02\n",
      " 6.64057059e-01 5.48049344e-05]\n",
      "sigma approx  [2.91412660e-01 4.86342972e-01 1.21303457e+01 1.15946113e+03\n",
      " 6.64054424e+00 5.48049344e-04]\n",
      "sigma approx  [2.91412662e-01 4.86342982e-01 1.21305064e+01 1.35458400e+03\n",
      " 6.64028070e+01 5.48049344e-03]\n",
      "sigma approx  [2.91412662e-01 4.86342983e-01 1.21305224e+01 1.37777015e+03\n",
      " 6.63764650e+02 5.48049344e-02]\n",
      "sigma approx  [2.91412662e-01 4.86342983e-01 1.21305241e+01 1.38013250e+03\n",
      " 6.61141900e+03 5.48049344e-01]\n",
      "sigma approx  [2.91412662e-01 4.86342983e-01 1.21305242e+01 1.38036918e+03\n",
      " 6.36011036e+04 5.48049344e+00]\n",
      "[3.67674343e-01 4.38029521e-02 4.60474614e-03 1.00724399e-03\n",
      " 8.38053350e-04 1.28847292e-03 6.89628200e-03 1.67306399e-02\n",
      " 1.95709483e-02 2.27609505e-02 1.12296242e-01 1.06335344e+00]\n"
     ]
    }
   ],
   "source": [
    "N= 12\n",
    "error = np.zeros(N, dtype=np.float64)\n",
    "tau   = np.zeros(N, dtype=np.float64)\n",
    "print(\"\\sigma:\", S)\n",
    "for i in range(0,N): # solve regularized LLS for different lambda\n",
    "    tau[i] = 10**(-i)\n",
    "    y1 = np.dot(U.T,b)\n",
    "\n",
    "    coeff = np.zeros(S.size)\n",
    "    for j in range(S.size):\n",
    "        coeff[j] = S[j]/(S[j]**2+tau[i])\n",
    "    print(\"sigma approx \",coeff)\n",
    "    y2 = np.multiply(y1,coeff) \n",
    "    #print(\"y2\", y2)\n",
    "    x_tau = np.dot(V.T,y2)\n",
    "    #x_tau = V * (sigma.dot((U.T).dot(b)) / (sigma.^2 + lambda(i+1)))\n",
    "    \n",
    "    error[i] = np.linalg.norm(x_tau - x_exact);\n",
    "    #print(\"x_tau\", x_tau)\n",
    "print(error)"
   ]
  },
  {
   "cell_type": "code",
   "execution_count": 89,
   "metadata": {},
   "outputs": [
    {
     "data": {
      "text/plain": [
       "[<matplotlib.lines.Line2D at 0x17470cc0e48>]"
      ]
     },
     "execution_count": 89,
     "metadata": {},
     "output_type": "execute_result"
    },
    {
     "data": {
      "image/png": "[encoded data removed]",
      "text/plain": [
       "<Figure size 432x288 with 1 Axes>"
      ]
     },
     "metadata": {
      "needs_background": "light"
     },
     "output_type": "display_data"
    }
   ],
   "source": [
    "import matplotlib.pyplot as plt\n",
    "plt.loglog(tau, error,'o')"
   ]
  },
  {
   "cell_type": "markdown",
   "metadata": {},
   "source": [
    "$\\tau \\approx 10^{-4}$ seems to be a good choice for the regularization parameter $\\tau$.\n",
    "\n",
    "### Morozov discrepancy principle\n",
    "\n",
    "We do not know the perturbation $\\Delta b$ but we assume its size $\\|\\Delta b\\|$\n",
    "\n",
    "- Observe, for $A x = b$: \n",
    "\\begin{equation}\n",
    "\\| A x - \\tilde{b} \\| = \\| A x - b - \\Delta b \\| = \\|\\Delta b\\| \n",
    "\\end{equation}\n",
    "$\\rightarrow$ we want to find a regularization parameter $\\tau$ such that $x_\\tau$ satisfies\n",
    "\\begin{equation}\n",
    "\\|A x_{\\tau} - \\tilde{b}\\| = \\|\\Delta b\\|\n",
    "\\end{equation}\n",
    "\n",
    "We obtain f the problem of finding $\\tau\\geq 0$ such that \n",
    "\\begin{equation}\n",
    "        \\|A x_{\\tau} - \\tilde{b}\\| = \\|\\Delta b\\| \\Longleftrightarrow f(\\tau) :=  \\|A x_{\\tau} - \\tilde{b}\\| - \\|\\Delta b\\|  = 0\n",
    "\\end{equation}\n",
    "\n",
    "We have a root finding problem. \n"
   ]
  },
  {
   "cell_type": "code",
   "execution_count": null,
   "metadata": {},
   "outputs": [],
   "source": [
    "##"
   ]
  }
 ],
 "metadata": {
  "hide_input": false,
  "kernelspec": {
   "display_name": "Python 3",
   "language": "python",
   "name": "python3"
  },
  "language_info": {
   "codemirror_mode": {
    "name": "ipython",
    "version": 3
   },
   "file_extension": ".py",
   "mimetype": "text/x-python",
   "name": "python",
   "nbconvert_exporter": "python",
   "pygments_lexer": "ipython3",
   "version": "3.6.10"
  },
  "toc": {
   "base_numbering": 1,
   "nav_menu": {},
   "number_sections": true,
   "sideBar": true,
   "skip_h1_title": false,
   "title_cell": "Table of Contents",
   "title_sidebar": "Contents",
   "toc_cell": false,
   "toc_position": {},
   "toc_section_display": true,
   "toc_window_display": false
  }
 },
 "nbformat": 4,
 "nbformat_minor": 2
}
