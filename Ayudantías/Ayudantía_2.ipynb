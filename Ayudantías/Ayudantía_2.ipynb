{
 "cells": [
  {
   "cell_type": "markdown",
   "metadata": {},
   "source": [
    "# Ayudantía 2"
   ]
  },
  {
   "cell_type": "code",
   "execution_count": 1,
   "metadata": {},
   "outputs": [],
   "source": [
    "import numpy as np\n",
    "import matplotlib.pyplot as plt"
   ]
  },
  {
   "cell_type": "markdown",
   "metadata": {},
   "source": [
    "<b>Estabilidad:</b>\n",
    "\n",
    "Un algoritmo $\\tilde{f}$ es estable para un problema $f$ si:\n",
    "\n",
    "$$\\frac{\\|f(\\tilde{x})-\\tilde{f}(x)\\|}{\\|f(\\tilde{x})\\|}=\\mathcal{O}(\\varepsilon_{M})$$\n",
    "\n",
    "para algún $\\tilde{x}$ tal que:\n",
    "\n",
    "$$\\frac{\\|x-\\tilde{x}\\|}{\\|x\\|}=\\mathcal{O}(\\varepsilon_{M})$$\n",
    "\n",
    "Estudiaremos la estabilidad de la eliminación Gaussiana con pivoteo parcial. Para esto, veremos el siguiente teorema (no demostraremos):\n",
    "\n",
    "<b>Teorema:</b> \n",
    "\n",
    "Sea la factorización $PA=LU$ de $A\\in \\mathbb{C}^{m\\times m}$, computada por algún algoritmo de eliminación Gaussiana con pivoteo parcial. Entonces, las matrices computadas $\\tilde{P}, \\tilde{L}, \\tilde{U}$ cumplen lo siguiente:\n",
    "\n",
    "$$ \\tilde{L}\\tilde{U} = \\tilde{P}A + \\delta A,\\quad \\frac{\\|\\delta A\\|}{\\|A\\|}\\in \\mathcal{O}(\\rho\\varepsilon_{M})$$\n",
    "\n",
    "donde $\\rho$ es el factor de crecimiento definido por:\n",
    "\n",
    "$$\\rho = \\frac{\\max |u_{ij}|}{\\max |a_{ij}|}$$\n",
    "\n",
    "Si $\\rho \\in \\mathcal{O}(1)$, entonces eliminación gaussiana con pivoteo parcial es backward-stable (recuerdos de la clase).\n",
    "\n",
    "\n",
    "Qué mide $\\rho$? En pocas palabras, mide cuanta información está almacenada en $U$ al reducir $A$ en dos matrices $L$, $U$. ¿Por qué no con L?"
   ]
  },
  {
   "cell_type": "markdown",
   "metadata": {
    "heading_collapsed": true
   },
   "source": [
    "### Importamos los códigos de eliminación gaussiana de las clases:"
   ]
  },
  {
   "cell_type": "code",
   "execution_count": 2,
   "metadata": {
    "hidden": true
   },
   "outputs": [],
   "source": [
    "def GEPP(A, b):\n",
    "    '''\n",
    "    Gaussian elimination with partial (row) pivoting\n",
    "    input : A nonsingular and square matrix n x n \n",
    "            b vector n x 1\n",
    "    output : x solution of the system A x = b\n",
    "    '''\n",
    "    # 1. Factorize A = PLU\n",
    "    L, U, pT = LUPP(A)\n",
    "    # 2. Solve P L U x = b\n",
    "    Ptb = b[pT]\n",
    "    # 3. Solve LUx = Pt b forward substitution\n",
    "    y = forward_substitution(L, Ptb)\n",
    "    # 4. Solve Ux = L^{-1} Pt b backward substitution\n",
    "    x = backward_substitution(U,y)\n",
    "    return x\n",
    "\n",
    "def LUPP(Ainput):\n",
    "    '''\n",
    "    LU factorization with partial pivoting\n",
    "    '''\n",
    "    A = Ainput.copy()\n",
    "    n = A.shape[0]\n",
    "    pT = np.arange(0,n)\n",
    "    for i in range(n-1):\n",
    "        imax = abs(A[i:,i]).argmax() + i\n",
    "        pT[[i,imax]] = pT[[imax,i]]\n",
    "        if A[imax, i] == 0:\n",
    "            raise ValueError(\"Matrix is singular.\")\n",
    "        elif imax != i:\n",
    "            A[[i,imax],:] = A[[imax, i],:][:]\n",
    "        A[(i+1):n,i][:] = (A[(i+1):n,i]/A[i,i])[:]\n",
    "        A[(i+1):n, (i+1):n][:] = A[(i+1):n, (i+1):n]-np.outer(A[(i+1):n,i],A[i, (i+1):n])\n",
    "    \n",
    "    L = np.tril(A,-1)+np.eye(n)\n",
    "    U = np.triu(A)\n",
    "    return L, U, pT\n",
    "\n",
    "def forward_substitution(L,b):\n",
    "    '''\n",
    "    Forward substitution algorithm for system L x = b\n",
    "    input : L lower triangular matrix n x n\n",
    "            b vector n x 1\n",
    "    output: x solution of L x = b\n",
    "    '''\n",
    "    n = L.shape[0]\n",
    "    x = np.zeros(n)\n",
    "    x[0] = b[0]/L[0,0]\n",
    "    for i in range(1,n):\n",
    "        x[i] = (b[i] - L[i,0:i]@x[0:i])/L[i,i]\n",
    "    return x\n",
    "\n",
    "def backward_substitution(U,b):\n",
    "    '''\n",
    "    Backward substitution algorithm for system U x = b\n",
    "    input : U upper tringular matrix n x n\n",
    "            b vector n x 1\n",
    "    output : x solution of U x = b\n",
    "    '''\n",
    "    n = U.shape[0]\n",
    "    x = np.zeros(n)\n",
    "    x[n-1] = b[n-1]/U[n-1,n-1]\n",
    "    for i in range(n-2,-1,-1):\n",
    "        x[i] = (b[i] - U[i,(i+1):n]@(x[(i+1):n]))/U[i,i]\n",
    "    return x"
   ]
  },
  {
   "cell_type": "markdown",
   "metadata": {
    "heading_collapsed": true
   },
   "source": [
    "### Creamos la función que calcula el factor de crecimiento:"
   ]
  },
  {
   "cell_type": "code",
   "execution_count": 3,
   "metadata": {
    "hidden": true
   },
   "outputs": [],
   "source": [
    "def growth_factor(A):\n",
    "    L, U, pT = LUPP(A)\n",
    "    num = np.max(abs(U))\n",
    "    den = np.max(abs(A))\n",
    "    return num/den"
   ]
  },
  {
   "cell_type": "markdown",
   "metadata": {
    "hidden": true
   },
   "source": [
    "Como dijimos antes, este valor en esencia nos dice que tanta información tiene $U$ con respecto a $A$. A mayor valor de $\\rho$, mayor es la cantidad de información almacenada en ella. Vemos un ejemplo de esto:"
   ]
  },
  {
   "cell_type": "markdown",
   "metadata": {},
   "source": [
    "### Ejemplo catastrófico para eliminación gaussiana\n",
    "\n",
    "Consideramos la matriz:\n",
    "\n",
    "$$A = \n",
    "\\begin{bmatrix}\n",
    "1&0&0&0&1\\\\\n",
    "-1&1&0&0&1\\\\\n",
    "-1&-1&1&0&1\\\\\n",
    "-1&-1&-1&1&1\\\\\n",
    "-1&-1&-1&-1&1\n",
    "\\end{bmatrix}$$"
   ]
  },
  {
   "cell_type": "code",
   "execution_count": 4,
   "metadata": {},
   "outputs": [
    {
     "name": "stdout",
     "output_type": "stream",
     "text": [
      "[[ 1  0  0  0  1]\n",
      " [ 0  1  0  0  2]\n",
      " [ 0  0  1  0  4]\n",
      " [ 0  0  0  1  8]\n",
      " [ 0  0  0  0 16]]\n"
     ]
    }
   ],
   "source": [
    "A = np.array([[1,0,0,0,1],\n",
    "              [-1,1,0,0,1],\n",
    "              [-1,-1,1,0,1],\n",
    "              [-1,-1,-1,1,1],\n",
    "              [-1,-1,-1,-1,1]]) # Matriz con mal factor de crecimiento\n",
    "\n",
    "L, U, PT = LUPP(A)\n",
    "print(U)"
   ]
  },
  {
   "cell_type": "code",
   "execution_count": 5,
   "metadata": {},
   "outputs": [
    {
     "name": "stdout",
     "output_type": "stream",
     "text": [
      "[[ 1.  0.  0.  0.  0.]\n",
      " [-1.  1.  0.  0.  0.]\n",
      " [-1. -1.  1.  0.  0.]\n",
      " [-1. -1. -1.  1.  0.]\n",
      " [-1. -1. -1. -1.  1.]]\n"
     ]
    }
   ],
   "source": [
    "print(L)"
   ]
  },
  {
   "cell_type": "code",
   "execution_count": 6,
   "metadata": {},
   "outputs": [
    {
     "name": "stdout",
     "output_type": "stream",
     "text": [
      "16.0\n"
     ]
    }
   ],
   "source": [
    "print(growth_factor(A))"
   ]
  },
  {
   "cell_type": "markdown",
   "metadata": {},
   "source": [
    "En particular, una matriz de la misma estructura de $A$ de $m\\times m$ tiene un factor de crecimiento de $2^{m-1}$. Es decir, a problemas de mayor dimensión, eliminación gaussiana con pivoteo parcial comienza a ser altamente inestable por las entradas de $U$.\n",
    "\n",
    "Un factor de crecimiento de $2^{m}$, corresponde a una pérdida de $\\mathcal{O}(m)$ cifras significativas! Con una matriz de dimensión suficientemente baja ($m<100$) se puede perder mucha información!\n",
    "\n",
    "\n",
    "Ahora, <b>¿Qué tan común es encontrar matrices para las cuales eliminación gaussiana sin pivoteo es inestable?</b>\n",
    "\n",
    "\n",
    "Veremos que dentro de matrices generadas aleatoriamente a partir de cierta distribución, es raro encontrar factores de crecimiento $\\rho$ elevados. Para esto, generaremos:\n",
    "\n",
    "```python 3\n",
    "for m=1,...,10,20,30,...,100,200,300,...,1000:\n",
    "    rho_list = []\n",
    "    for n=1,...,50:\n",
    "        A = random_matrix((m, m), media=0, desv_standard=m^{-1/2})\n",
    "        rho = growth_factor(A)\n",
    "        rho_list.append(rho)\n",
    "    plot(m, rho_list)\n",
    "```\n",
    "\n",
    "Así, veremos que los factores de crecimiento no se disparan más alla de la recta $y = \\sqrt{m}$, a pesar de ser cada vez más cercana a una matriz llena de 0's cuando $m\\to\\infty$."
   ]
  },
  {
   "cell_type": "code",
   "execution_count": 7,
   "metadata": {},
   "outputs": [
    {
     "name": "stdout",
     "output_type": "stream",
     "text": [
      "[   1    2    3    4    5    6    7    8    9   10   20   30   40   50\n",
      "   60   70   80   90  100  200  300  400  500  600  700  800  900 1000]\n"
     ]
    }
   ],
   "source": [
    "m_list = np.append(np.append(np.arange(1,11), np.arange(20, 101, 10)), np.arange(200, 1001, 100))\n",
    "print(m_list)"
   ]
  },
  {
   "cell_type": "code",
   "execution_count": 8,
   "metadata": {},
   "outputs": [],
   "source": [
    "def growth_factor_list(m_list):\n",
    "    \"\"\"\n",
    "    Dada una lista de valores m genera una matriz\n",
    "    de mxm con valores extraidos de una normal de media\n",
    "    0 y std. dev. sqrt(m)\n",
    "    \"\"\"\n",
    "    List_rho_list = []\n",
    "    \n",
    "    for m in m_list:\n",
    "        \n",
    "        rho_list = []\n",
    "        \n",
    "        for n in range(50):\n",
    "            \n",
    "            A = np.random.normal(loc=0.0, scale=1/np.sqrt(m), size=(m, m))\n",
    "            rho = growth_factor(A)\n",
    "            rho_list.append(rho)\n",
    "        \n",
    "        List_rho_list.append(rho_list)\n",
    "    \n",
    "    return List_rho_list"
   ]
  },
  {
   "cell_type": "code",
   "execution_count": 9,
   "metadata": {},
   "outputs": [],
   "source": [
    "def create_plot_lists(m_list):\n",
    "    \n",
    "    List = np.array(growth_factor_list(m_list))\n",
    "    m, n = List.shape\n",
    "    List = List.reshape(m*n)\n",
    "    \n",
    "    new_m_list = []\n",
    "    for m in m_list:\n",
    "        for i in range(n):\n",
    "            new_m_list.append(m)\n",
    "    \n",
    "    return new_m_list, List"
   ]
  },
  {
   "cell_type": "code",
   "execution_count": 10,
   "metadata": {},
   "outputs": [],
   "source": [
    "m_list_new, rho_list = create_plot_lists(m_list)"
   ]
  },
  {
   "cell_type": "markdown",
   "metadata": {},
   "source": [
    "#### Revisamos el gráfico:"
   ]
  },
  {
   "cell_type": "code",
   "execution_count": 12,
   "metadata": {},
   "outputs": [
    {
     "data": {
      "image/png": "[encoded data removed]",
      "text/plain": [
       "<Figure size 720x720 with 1 Axes>"
      ]
     },
     "metadata": {
      "needs_background": "light"
     },
     "output_type": "display_data"
    }
   ],
   "source": [
    "x = np.linspace(1,1000)\n",
    "\n",
    "plt.figure(figsize=(10,10))\n",
    "\n",
    "plt.scatter(m_list_new, rho_list, color=\"black\", marker=\".\")\n",
    "plt.plot(x, np.sqrt(x), \"--k\", label=\"sqrt(m)\")\n",
    "plt.xlabel(\"m\", fontsize=14)\n",
    "plt.ylabel(\"Factor de crecimiento\", fontsize=14)\n",
    "plt.legend(loc=\"best\")\n",
    "plt.yscale(\"log\")\n",
    "plt.xscale(\"log\")\n",
    "plt.show()"
   ]
  },
  {
   "cell_type": "markdown",
   "metadata": {},
   "source": [
    "Vemos que los factores de crecimiento para este tipo de matrices está, generalmente, en el orden de $\\sqrt{m}<<2^{m-1}$. Esto nos dice que, si bien podemos sacar muchas matrices random, por lo general es dificil encontrar una para la cual eliminación gaussiana es inestable.\n",
    "\n",
    "En este ejemplo, se tomaron: $27\\cdot 50=1350$ matrices. Un ejemplo más completo se puede hacer con 10 matrices por cada $n=1,\\dots,1000$, tomando en total $10000$ matrices y obtendríamos los mismos resultados."
   ]
  },
  {
   "cell_type": "markdown",
   "metadata": {},
   "source": [
    "#### Para un $m$ fijo, podemos ver la distribución de densidad de estos factores de crecimiento.\n",
    "\n",
    "Veremos esto para $m=8,16,32$, tomando 100000 matrices para cada $m$."
   ]
  },
  {
   "cell_type": "code",
   "execution_count": 13,
   "metadata": {},
   "outputs": [
    {
     "ename": "KeyboardInterrupt",
     "evalue": "",
     "output_type": "error",
     "traceback": [
      "\u001b[0;31m---------------------------------------------------------------------------\u001b[0m",
      "\u001b[0;31mKeyboardInterrupt\u001b[0m                         Traceback (most recent call last)",
      "\u001b[0;32m<ipython-input-13-cb45b203c995>\u001b[0m in \u001b[0;36m<module>\u001b[0;34m\u001b[0m\n\u001b[1;32m     12\u001b[0m \u001b[0mrho_8\u001b[0m \u001b[0;34m=\u001b[0m \u001b[0mrho_density_list\u001b[0m\u001b[0;34m(\u001b[0m\u001b[0;36m8\u001b[0m\u001b[0;34m)\u001b[0m\u001b[0;34m\u001b[0m\u001b[0;34m\u001b[0m\u001b[0m\n\u001b[1;32m     13\u001b[0m \u001b[0mrho_16\u001b[0m \u001b[0;34m=\u001b[0m \u001b[0mrho_density_list\u001b[0m\u001b[0;34m(\u001b[0m\u001b[0;36m16\u001b[0m\u001b[0;34m)\u001b[0m\u001b[0;34m\u001b[0m\u001b[0;34m\u001b[0m\u001b[0m\n\u001b[0;32m---> 14\u001b[0;31m \u001b[0mrho_32\u001b[0m \u001b[0;34m=\u001b[0m \u001b[0mrho_density_list\u001b[0m\u001b[0;34m(\u001b[0m\u001b[0;36m32\u001b[0m\u001b[0;34m)\u001b[0m\u001b[0;34m\u001b[0m\u001b[0;34m\u001b[0m\u001b[0m\n\u001b[0m",
      "\u001b[0;32m<ipython-input-13-cb45b203c995>\u001b[0m in \u001b[0;36mrho_density_list\u001b[0;34m(m, N)\u001b[0m\n\u001b[1;32m      5\u001b[0m     \u001b[0;32mfor\u001b[0m \u001b[0mn\u001b[0m \u001b[0;32min\u001b[0m \u001b[0mrange\u001b[0m\u001b[0;34m(\u001b[0m\u001b[0mN\u001b[0m\u001b[0;34m)\u001b[0m\u001b[0;34m:\u001b[0m\u001b[0;34m\u001b[0m\u001b[0;34m\u001b[0m\u001b[0m\n\u001b[1;32m      6\u001b[0m         \u001b[0mA\u001b[0m \u001b[0;34m=\u001b[0m \u001b[0mnp\u001b[0m\u001b[0;34m.\u001b[0m\u001b[0mrandom\u001b[0m\u001b[0;34m.\u001b[0m\u001b[0mnormal\u001b[0m\u001b[0;34m(\u001b[0m\u001b[0mloc\u001b[0m\u001b[0;34m=\u001b[0m\u001b[0;36m0.0\u001b[0m\u001b[0;34m,\u001b[0m \u001b[0mscale\u001b[0m\u001b[0;34m=\u001b[0m\u001b[0;36m1\u001b[0m\u001b[0;34m/\u001b[0m\u001b[0mnp\u001b[0m\u001b[0;34m.\u001b[0m\u001b[0msqrt\u001b[0m\u001b[0;34m(\u001b[0m\u001b[0mm\u001b[0m\u001b[0;34m)\u001b[0m\u001b[0;34m,\u001b[0m \u001b[0msize\u001b[0m\u001b[0;34m=\u001b[0m\u001b[0;34m(\u001b[0m\u001b[0mm\u001b[0m\u001b[0;34m,\u001b[0m \u001b[0mm\u001b[0m\u001b[0;34m)\u001b[0m\u001b[0;34m)\u001b[0m\u001b[0;34m\u001b[0m\u001b[0;34m\u001b[0m\u001b[0m\n\u001b[0;32m----> 7\u001b[0;31m         \u001b[0mrho\u001b[0m \u001b[0;34m=\u001b[0m \u001b[0mgrowth_factor\u001b[0m\u001b[0;34m(\u001b[0m\u001b[0mA\u001b[0m\u001b[0;34m)\u001b[0m\u001b[0;34m\u001b[0m\u001b[0;34m\u001b[0m\u001b[0m\n\u001b[0m\u001b[1;32m      8\u001b[0m         \u001b[0mrho_list\u001b[0m\u001b[0;34m.\u001b[0m\u001b[0mappend\u001b[0m\u001b[0;34m(\u001b[0m\u001b[0mrho\u001b[0m\u001b[0;34m)\u001b[0m\u001b[0;34m\u001b[0m\u001b[0;34m\u001b[0m\u001b[0m\n\u001b[1;32m      9\u001b[0m \u001b[0;34m\u001b[0m\u001b[0m\n",
      "\u001b[0;32m<ipython-input-3-d34013198ca3>\u001b[0m in \u001b[0;36mgrowth_factor\u001b[0;34m(A)\u001b[0m\n\u001b[1;32m      1\u001b[0m \u001b[0;32mdef\u001b[0m \u001b[0mgrowth_factor\u001b[0m\u001b[0;34m(\u001b[0m\u001b[0mA\u001b[0m\u001b[0;34m)\u001b[0m\u001b[0;34m:\u001b[0m\u001b[0;34m\u001b[0m\u001b[0;34m\u001b[0m\u001b[0m\n\u001b[0;32m----> 2\u001b[0;31m     \u001b[0mL\u001b[0m\u001b[0;34m,\u001b[0m \u001b[0mU\u001b[0m\u001b[0;34m,\u001b[0m \u001b[0mpT\u001b[0m \u001b[0;34m=\u001b[0m \u001b[0mLUPP\u001b[0m\u001b[0;34m(\u001b[0m\u001b[0mA\u001b[0m\u001b[0;34m)\u001b[0m\u001b[0;34m\u001b[0m\u001b[0;34m\u001b[0m\u001b[0m\n\u001b[0m\u001b[1;32m      3\u001b[0m     \u001b[0mnum\u001b[0m \u001b[0;34m=\u001b[0m \u001b[0mnp\u001b[0m\u001b[0;34m.\u001b[0m\u001b[0mmax\u001b[0m\u001b[0;34m(\u001b[0m\u001b[0mabs\u001b[0m\u001b[0;34m(\u001b[0m\u001b[0mU\u001b[0m\u001b[0;34m)\u001b[0m\u001b[0;34m)\u001b[0m\u001b[0;34m\u001b[0m\u001b[0;34m\u001b[0m\u001b[0m\n\u001b[1;32m      4\u001b[0m     \u001b[0mden\u001b[0m \u001b[0;34m=\u001b[0m \u001b[0mnp\u001b[0m\u001b[0;34m.\u001b[0m\u001b[0mmax\u001b[0m\u001b[0;34m(\u001b[0m\u001b[0mabs\u001b[0m\u001b[0;34m(\u001b[0m\u001b[0mA\u001b[0m\u001b[0;34m)\u001b[0m\u001b[0;34m)\u001b[0m\u001b[0;34m\u001b[0m\u001b[0;34m\u001b[0m\u001b[0m\n\u001b[1;32m      5\u001b[0m     \u001b[0;32mreturn\u001b[0m \u001b[0mnum\u001b[0m\u001b[0;34m/\u001b[0m\u001b[0mden\u001b[0m\u001b[0;34m\u001b[0m\u001b[0;34m\u001b[0m\u001b[0m\n",
      "\u001b[0;32m<ipython-input-2-0b7ac7a4e460>\u001b[0m in \u001b[0;36mLUPP\u001b[0;34m(Ainput)\u001b[0m\n\u001b[1;32m     30\u001b[0m         \u001b[0;32melif\u001b[0m \u001b[0mimax\u001b[0m \u001b[0;34m!=\u001b[0m \u001b[0mi\u001b[0m\u001b[0;34m:\u001b[0m\u001b[0;34m\u001b[0m\u001b[0;34m\u001b[0m\u001b[0m\n\u001b[1;32m     31\u001b[0m             \u001b[0mA\u001b[0m\u001b[0;34m[\u001b[0m\u001b[0;34m[\u001b[0m\u001b[0mi\u001b[0m\u001b[0;34m,\u001b[0m\u001b[0mimax\u001b[0m\u001b[0;34m]\u001b[0m\u001b[0;34m,\u001b[0m\u001b[0;34m:\u001b[0m\u001b[0;34m]\u001b[0m \u001b[0;34m=\u001b[0m \u001b[0mA\u001b[0m\u001b[0;34m[\u001b[0m\u001b[0;34m[\u001b[0m\u001b[0mimax\u001b[0m\u001b[0;34m,\u001b[0m \u001b[0mi\u001b[0m\u001b[0;34m]\u001b[0m\u001b[0;34m,\u001b[0m\u001b[0;34m:\u001b[0m\u001b[0;34m]\u001b[0m\u001b[0;34m[\u001b[0m\u001b[0;34m:\u001b[0m\u001b[0;34m]\u001b[0m\u001b[0;34m\u001b[0m\u001b[0;34m\u001b[0m\u001b[0m\n\u001b[0;32m---> 32\u001b[0;31m         \u001b[0mA\u001b[0m\u001b[0;34m[\u001b[0m\u001b[0;34m(\u001b[0m\u001b[0mi\u001b[0m\u001b[0;34m+\u001b[0m\u001b[0;36m1\u001b[0m\u001b[0;34m)\u001b[0m\u001b[0;34m:\u001b[0m\u001b[0mn\u001b[0m\u001b[0;34m,\u001b[0m\u001b[0mi\u001b[0m\u001b[0;34m]\u001b[0m\u001b[0;34m[\u001b[0m\u001b[0;34m:\u001b[0m\u001b[0;34m]\u001b[0m \u001b[0;34m=\u001b[0m \u001b[0;34m(\u001b[0m\u001b[0mA\u001b[0m\u001b[0;34m[\u001b[0m\u001b[0;34m(\u001b[0m\u001b[0mi\u001b[0m\u001b[0;34m+\u001b[0m\u001b[0;36m1\u001b[0m\u001b[0;34m)\u001b[0m\u001b[0;34m:\u001b[0m\u001b[0mn\u001b[0m\u001b[0;34m,\u001b[0m\u001b[0mi\u001b[0m\u001b[0;34m]\u001b[0m\u001b[0;34m/\u001b[0m\u001b[0mA\u001b[0m\u001b[0;34m[\u001b[0m\u001b[0mi\u001b[0m\u001b[0;34m,\u001b[0m\u001b[0mi\u001b[0m\u001b[0;34m]\u001b[0m\u001b[0;34m)\u001b[0m\u001b[0;34m[\u001b[0m\u001b[0;34m:\u001b[0m\u001b[0;34m]\u001b[0m\u001b[0;34m\u001b[0m\u001b[0;34m\u001b[0m\u001b[0m\n\u001b[0m\u001b[1;32m     33\u001b[0m         \u001b[0mA\u001b[0m\u001b[0;34m[\u001b[0m\u001b[0;34m(\u001b[0m\u001b[0mi\u001b[0m\u001b[0;34m+\u001b[0m\u001b[0;36m1\u001b[0m\u001b[0;34m)\u001b[0m\u001b[0;34m:\u001b[0m\u001b[0mn\u001b[0m\u001b[0;34m,\u001b[0m \u001b[0;34m(\u001b[0m\u001b[0mi\u001b[0m\u001b[0;34m+\u001b[0m\u001b[0;36m1\u001b[0m\u001b[0;34m)\u001b[0m\u001b[0;34m:\u001b[0m\u001b[0mn\u001b[0m\u001b[0;34m]\u001b[0m\u001b[0;34m[\u001b[0m\u001b[0;34m:\u001b[0m\u001b[0;34m]\u001b[0m \u001b[0;34m=\u001b[0m \u001b[0mA\u001b[0m\u001b[0;34m[\u001b[0m\u001b[0;34m(\u001b[0m\u001b[0mi\u001b[0m\u001b[0;34m+\u001b[0m\u001b[0;36m1\u001b[0m\u001b[0;34m)\u001b[0m\u001b[0;34m:\u001b[0m\u001b[0mn\u001b[0m\u001b[0;34m,\u001b[0m \u001b[0;34m(\u001b[0m\u001b[0mi\u001b[0m\u001b[0;34m+\u001b[0m\u001b[0;36m1\u001b[0m\u001b[0;34m)\u001b[0m\u001b[0;34m:\u001b[0m\u001b[0mn\u001b[0m\u001b[0;34m]\u001b[0m\u001b[0;34m-\u001b[0m\u001b[0mnp\u001b[0m\u001b[0;34m.\u001b[0m\u001b[0mouter\u001b[0m\u001b[0;34m(\u001b[0m\u001b[0mA\u001b[0m\u001b[0;34m[\u001b[0m\u001b[0;34m(\u001b[0m\u001b[0mi\u001b[0m\u001b[0;34m+\u001b[0m\u001b[0;36m1\u001b[0m\u001b[0;34m)\u001b[0m\u001b[0;34m:\u001b[0m\u001b[0mn\u001b[0m\u001b[0;34m,\u001b[0m\u001b[0mi\u001b[0m\u001b[0;34m]\u001b[0m\u001b[0;34m,\u001b[0m\u001b[0mA\u001b[0m\u001b[0;34m[\u001b[0m\u001b[0mi\u001b[0m\u001b[0;34m,\u001b[0m \u001b[0;34m(\u001b[0m\u001b[0mi\u001b[0m\u001b[0;34m+\u001b[0m\u001b[0;36m1\u001b[0m\u001b[0;34m)\u001b[0m\u001b[0;34m:\u001b[0m\u001b[0mn\u001b[0m\u001b[0;34m]\u001b[0m\u001b[0;34m)\u001b[0m\u001b[0;34m\u001b[0m\u001b[0;34m\u001b[0m\u001b[0m\n\u001b[1;32m     34\u001b[0m \u001b[0;34m\u001b[0m\u001b[0m\n",
      "\u001b[0;31mKeyboardInterrupt\u001b[0m: "
     ]
    }
   ],
   "source": [
    "def rho_density_list(m, N=10000):\n",
    "    \n",
    "    rho_list = []\n",
    "    \n",
    "    for n in range(N):\n",
    "        A = np.random.normal(loc=0.0, scale=1/np.sqrt(m), size=(m, m))\n",
    "        rho = growth_factor(A)\n",
    "        rho_list.append(rho)\n",
    "    \n",
    "    return rho_list\n",
    "\n",
    "rho_8 = rho_density_list(8)\n",
    "rho_16 = rho_density_list(16)\n",
    "rho_32 = rho_density_list(32)"
   ]
  },
  {
   "cell_type": "code",
   "execution_count": 83,
   "metadata": {},
   "outputs": [
    {
     "data": {
      "image/png": "[encoded data removed]",
      "text/plain": [
       "<Figure size 864x576 with 1 Axes>"
      ]
     },
     "metadata": {
      "needs_background": "light"
     },
     "output_type": "display_data"
    }
   ],
   "source": [
    "hist8, bin_edges8 = np.histogram(rho_8, bins=50, density=True)\n",
    "hist16, bin_edges16 = np.histogram(rho_16, bins=50, density=True)\n",
    "hist32, bin_edges32 = np.histogram(rho_32, bins=50, density=True)\n",
    "\n",
    "plt.figure(figsize=(12,8))\n",
    "\n",
    "#density histogram\n",
    "plt.plot(bin_edges8[:-1], hist8, 'k-', label=\"m=8\")\n",
    "plt.plot(bin_edges16[:-1], hist16, 'r-', label=\"m=16\")\n",
    "plt.plot(bin_edges32[:-1], hist32, 'b-', label=\"m=32\")\n",
    "\n",
    "#Vertical lines\n",
    "plt.axvline(x=np.sqrt(8), color=\"k\", linewidth=0.7, linestyle=\"--\", label=\"sqrt(8)\")\n",
    "plt.axvline(x=np.sqrt(16), color=\"red\", linewidth=0.7, linestyle=\"--\", label=\"sqrt(16)\")\n",
    "plt.axvline(x=np.sqrt(32), color=\"blue\", linewidth=0.7, linestyle=\"--\", label=\"sqrt(32)\")\n",
    "\n",
    "plt.title(\"Probabilidad de factores de crecimiento en términos del tamaño de la matriz.\")\n",
    "plt.xlabel(\"factor de crecimiento (rho)\", fontsize=14)\n",
    "plt.ylabel(\"Probabilidad\", fontsize=14)\n",
    "plt.yscale(\"log\")\n",
    "plt.legend(loc=\"upper right\")\n",
    "plt.show()"
   ]
  },
  {
   "cell_type": "markdown",
   "metadata": {},
   "source": [
    "## Tutorial matrices sparse\n",
    "\n",
    "¿Por qué usarlas?\n",
    "\n",
    "Memoria limitada! Si no toda la matriz tiene información (0's), es realmente valioso almacenarla completa?"
   ]
  },
  {
   "cell_type": "code",
   "execution_count": 14,
   "metadata": {},
   "outputs": [],
   "source": [
    "import scipy.sparse as sps\n",
    "import scipy.sparse.linalg as LA"
   ]
  },
  {
   "cell_type": "markdown",
   "metadata": {},
   "source": [
    "### (CSC) Compressed Sparse Column:\n",
    "\n",
    "\n",
    "Tomamos 3 listas:\n",
    "\n",
    "- row: índices de la filas\n",
    "- col: índices de las columnas. Debe ir ordenado de menor a mayor.\n",
    "- data: datos ordenados por (filas,columnas)\n",
    "\n",
    "Para esto, se ordena primero col, y después row. Por ejemplo, la matriz:\n",
    "\n",
    "$$A = \n",
    "\\begin{pmatrix}\n",
    "1&&&&1\\\\\n",
    "&1&&&2\\\\\n",
    "&&1&&4\\\\\n",
    "&&&1&8\\\\\n",
    "&&&&16\n",
    "\\end{pmatrix}$$\n",
    "\n",
    "Tendría:\n",
    "\n",
    "``` python 3\n",
    "col = [0, 1, 2, 3, 4, 4, 4, 4, 4]\n",
    "row = [0, 1, 2, 3, 0, 1, 2, 3, 4]\n",
    "data = [1, 1, 1, 1, 1, 2, 4, 8, 16]\n",
    "```"
   ]
  },
  {
   "cell_type": "code",
   "execution_count": 17,
   "metadata": {},
   "outputs": [
    {
     "name": "stdout",
     "output_type": "stream",
     "text": [
      "[[ 1  0  0  0  1]\n",
      " [ 0  1  0  0  2]\n",
      " [ 0  0  1  0  4]\n",
      " [ 0  0  0  1  8]\n",
      " [ 0  0  0  0 16]]\n",
      "\n",
      "  (0, 0)\t1\n",
      "  (1, 1)\t1\n",
      "  (2, 2)\t1\n",
      "  (3, 3)\t1\n",
      "  (0, 4)\t1\n",
      "  (1, 4)\t2\n",
      "  (2, 4)\t4\n",
      "  (3, 4)\t8\n",
      "  (4, 4)\t16\n"
     ]
    }
   ],
   "source": [
    "col = [0, 1, 2, 3, 4, 4, 4, 4, 4]\n",
    "row = [0, 1, 2, 3, 0, 1, 2, 3, 4]\n",
    "data = [1, 1, 1, 1, 1, 2, 4, 8, 16]\n",
    "\n",
    "A_sparse = sps.csc_matrix((data, (row, col)), shape=(5, 5))\n",
    "\n",
    "#Esta es la matriz vista como array\n",
    "print(A_sparse.toarray())\n",
    "print(\"\")\n",
    "\n",
    "#Esto se está almacenando en memoria\n",
    "print(A_sparse)"
   ]
  },
  {
   "cell_type": "markdown",
   "metadata": {},
   "source": [
    "### (CSR) Compressed Sparse Row:\n",
    "\n",
    "Similar a CSC, pero ordenamos primero la lista de fila y la de columnas después. Para el ejemplo anterior se tiene:\n",
    "\n",
    "$$A = \n",
    "\\begin{pmatrix}\n",
    "1&&&&1\\\\\n",
    "&1&&&2\\\\\n",
    "&&1&&4\\\\\n",
    "&&&1&8\\\\\n",
    "&&&&16\n",
    "\\end{pmatrix}$$\n",
    "\n",
    "Tendría:\n",
    "\n",
    "``` python 3\n",
    "row = [0, 0, 1, 1, 2, 2, 3, 3, 4]\n",
    "col = [0, 4, 1, 4, 2, 4, 3, 4, 4]\n",
    "data = [1, 1, 1, 2, 1, 4, 1, 8, 16]\n",
    "```"
   ]
  },
  {
   "cell_type": "code",
   "execution_count": 18,
   "metadata": {},
   "outputs": [
    {
     "name": "stdout",
     "output_type": "stream",
     "text": [
      "[[ 1  0  0  0  1]\n",
      " [ 0  1  0  0  2]\n",
      " [ 0  0  1  0  4]\n",
      " [ 0  0  0  1  8]\n",
      " [ 0  0  0  0 16]]\n",
      "\n",
      "  (0, 0)\t1\n",
      "  (0, 4)\t1\n",
      "  (1, 1)\t1\n",
      "  (1, 4)\t2\n",
      "  (2, 2)\t1\n",
      "  (2, 4)\t4\n"
     ]
    }
   ],
   "source": [
    "row = [0, 0, 1, 1, 2, 2, 3, 3, 4]\n",
    "col = [0, 4, 1, 4, 2, 4, 3, 4, 4]\n",
    "data = [1, 1, 1, 2, 1, 4, 1, 8, 16]\n",
    "\n",
    "A_sparse = sps.csr_matrix((data, (row, col)), shape=(5, 5))\n",
    "\n",
    "#Esta es la matriz vista como array\n",
    "print(A_sparse.toarray())\n",
    "print(\"\")\n",
    "\n",
    "#Es rápido hacer slices por fila. Por columna es más rápido hacerlo con CSC.\n",
    "print(A_sparse[:3,:])"
   ]
  },
  {
   "cell_type": "markdown",
   "metadata": {},
   "source": [
    "### (COO)rdinate format\n",
    "\n",
    "Este pide las mismas 3 listas, pero aquí podemos darlas en otro orden. En row se entrega el índice asociado a la fila, en col la columna que corresponde y en data el valor que se AÑADE a la matriz.\n",
    "\n",
    "AÑADE = SUMA en este caso. Por ejemplo, para la misma matriz\n",
    "\n",
    "$$A = \n",
    "\\begin{pmatrix}\n",
    "1&&&&1\\\\\n",
    "&1&&&2\\\\\n",
    "&&1&&4\\\\\n",
    "&&&1&8\\\\\n",
    "&&&&16\n",
    "\\end{pmatrix}$$\n",
    "\n",
    "una forma de definirla es como:\n",
    "\n",
    "``` python 3\n",
    "row = [0, 1, 2, 3, 4, 0, 1, 2, 3] #primero la diagonal y luego el resto\n",
    "col = [0, 1, 2, 3, 4, 4, 4, 4, 4] #primero la diagonal y luego el resto\n",
    "data = [1, 1, 1, 1, 16, 1, 2, 4, 8]\n",
    "```\n",
    "\n",
    "Mientras que otra puede ser la de otros formatos, modificadas (CSR en el ejemplo, y separando la última coordenada):\n",
    "\n",
    "``` python 3\n",
    "row = [0, 0, 1, 1, 2, 2, 3, 3, 4, 4, 4, 4]\n",
    "col = [0, 4, 1, 4, 2, 4, 3, 4, 4, 4, 4, 4]\n",
    "data = [1, 1, 1, 2, 1, 4, 1, 8, 4, 4, 4, 4]\n",
    "```\n",
    "\n",
    "Aquí separamos la última entrada en 4: $4+4+4+4=16$"
   ]
  },
  {
   "cell_type": "code",
   "execution_count": 19,
   "metadata": {},
   "outputs": [
    {
     "name": "stdout",
     "output_type": "stream",
     "text": [
      "[[ 1  0  0  0  1]\n",
      " [ 0  1  0  0  2]\n",
      " [ 0  0  1  0  4]\n",
      " [ 0  0  0  1  8]\n",
      " [ 0  0  0  0 16]]\n"
     ]
    }
   ],
   "source": [
    "row = [0, 1, 2, 3, 4, 0, 1, 2, 3] #primero la diagonal y luego el resto\n",
    "col = [0, 1, 2, 3, 4, 4, 4, 4, 4] #primero la diagonal y luego el resto\n",
    "data = [1, 1, 1, 1, 16, 1, 2, 4, 8]\n",
    "\n",
    "A_sparse = sps.coo_matrix((data, (row, col)), shape=(5, 5))\n",
    "\n",
    "#Esta es la matriz vista como array\n",
    "print(A_sparse.toarray())"
   ]
  },
  {
   "cell_type": "code",
   "execution_count": 20,
   "metadata": {},
   "outputs": [
    {
     "name": "stdout",
     "output_type": "stream",
     "text": [
      "[[ 1  0  0  0  1]\n",
      " [ 0  1  0  0  2]\n",
      " [ 0  0  1  0  4]\n",
      " [ 0  0  0  1  8]\n",
      " [ 0  0  0  0 16]]\n"
     ]
    }
   ],
   "source": [
    "row = [0, 0, 1, 1, 2, 2, 3, 3, 4, 4, 4, 4]\n",
    "col = [0, 4, 1, 4, 2, 4, 3, 4, 4, 4, 4, 4]\n",
    "data = [1, 1, 1, 2, 1, 4, 1, 8, 4, 4, 4, 4]\n",
    "\n",
    "A_sparse = sps.coo_matrix((data, (row, col)), shape=(5, 5))\n",
    "\n",
    "#Esta es la matriz vista como array\n",
    "print(A_sparse.toarray())"
   ]
  },
  {
   "cell_type": "markdown",
   "metadata": {},
   "source": [
    "Hay más formatos, pero estos son 3 de los más útiles (IMO).\n",
    "\n",
    "\n",
    "Veamos como resolver un sistema con matrices sparse:\n",
    "\n",
    "Pensemos en resolver mediante diferencias finitas:\n",
    "\n",
    "$$\\begin{cases}-u''(x) = 4\\pi^2\\sin(2\\pi x),& x\\in(0,1)\\\\\n",
    "u(x) = 0,& x\\in\\{0,1\\}\n",
    "\\end{cases}$$\n",
    "\n",
    "Esto nos da la matriz tridiagonal$(-1,2,-1)$ de $N\\times N$ si $(0,1)$ está discretizado por $N$ puntos."
   ]
  },
  {
   "cell_type": "code",
   "execution_count": 34,
   "metadata": {},
   "outputs": [],
   "source": [
    "N = 10000\n",
    "x = np.linspace(0, 1, num=N+2)\n",
    "h = 1/(N+1)\n",
    "\n",
    "f = lambda x: 4*(np.pi**2)*np.sin(2*np.pi*x)\n",
    "b = h*h*f(x[1:-1])"
   ]
  },
  {
   "cell_type": "code",
   "execution_count": 35,
   "metadata": {},
   "outputs": [],
   "source": [
    "def Assemble_FD_matrix(N):\n",
    "    \n",
    "    row = []\n",
    "    col = []\n",
    "    data = []\n",
    "    \n",
    "    for i in range(N): #Recorro por filas\n",
    "        \n",
    "        #Agrego diagonal\n",
    "        row.append(i)\n",
    "        col.append(i)\n",
    "        data.append(2)\n",
    "        \n",
    "        #Agrego derecho si i<N-1\n",
    "        if i<N-1:\n",
    "            row.append(i)\n",
    "            col.append(i+1)\n",
    "            data.append(-1)\n",
    "        \n",
    "        #Agrego izquierda si i>0\n",
    "        if i>0:\n",
    "            row.append(i)\n",
    "            col.append(i-1)\n",
    "            data.append(-1)\n",
    "            \n",
    "    A_sparse = sps.csr_matrix((data, (row, col)), shape=(N, N))\n",
    "    return A_sparse"
   ]
  },
  {
   "cell_type": "markdown",
   "metadata": {},
   "source": [
    "### Resolvemos el sistema:"
   ]
  },
  {
   "cell_type": "code",
   "execution_count": 36,
   "metadata": {},
   "outputs": [
    {
     "name": "stdout",
     "output_type": "stream",
     "text": [
      "[[ 2 -1  0  0  0  0  0  0  0  0]\n",
      " [-1  2 -1  0  0  0  0  0  0  0]\n",
      " [ 0 -1  2 -1  0  0  0  0  0  0]\n",
      " [ 0  0 -1  2 -1  0  0  0  0  0]\n",
      " [ 0  0  0 -1  2 -1  0  0  0  0]\n",
      " [ 0  0  0  0 -1  2 -1  0  0  0]\n",
      " [ 0  0  0  0  0 -1  2 -1  0  0]\n",
      " [ 0  0  0  0  0  0 -1  2 -1  0]\n",
      " [ 0  0  0  0  0  0  0 -1  2 -1]\n",
      " [ 0  0  0  0  0  0  0  0 -1  2]]\n"
     ]
    }
   ],
   "source": [
    "#Sanity check: Armé la matriz?\n",
    "A = Assemble_FD_matrix(10)\n",
    "print(A.toarray())"
   ]
  },
  {
   "cell_type": "code",
   "execution_count": 37,
   "metadata": {},
   "outputs": [
    {
     "name": "stdout",
     "output_type": "stream",
     "text": [
      "10000\n"
     ]
    }
   ],
   "source": [
    "import time\n",
    "print(N)"
   ]
  },
  {
   "cell_type": "code",
   "execution_count": 38,
   "metadata": {},
   "outputs": [
    {
     "name": "stdout",
     "output_type": "stream",
     "text": [
      "Tiempo de ensamblaje: 0.03465700149536133\n"
     ]
    }
   ],
   "source": [
    "t1 = time.time()\n",
    "A = Assemble_FD_matrix(N)\n",
    "t2 = time.time()\n",
    "\n",
    "print(f\"Tiempo de ensamblaje: {t2-t1}\")"
   ]
  },
  {
   "cell_type": "code",
   "execution_count": 39,
   "metadata": {},
   "outputs": [
    {
     "name": "stdout",
     "output_type": "stream",
     "text": [
      "Tiempo de invertir matriz: 0.018949031829833984\n"
     ]
    }
   ],
   "source": [
    "t1 = time.time()\n",
    "u = LA.spsolve(A, b)\n",
    "t2 = time.time()\n",
    "\n",
    "print(f\"Tiempo de invertir matriz: {t2-t1}\")"
   ]
  },
  {
   "cell_type": "code",
   "execution_count": 40,
   "metadata": {},
   "outputs": [
    {
     "name": "stdout",
     "output_type": "stream",
     "text": [
      "Tiempo de ensamblaje: 0.03287100791931152\n",
      "Tiempo de invertir matriz: 18.90324115753174\n"
     ]
    }
   ],
   "source": [
    "t1 = time.time()\n",
    "B = A.toarray()\n",
    "t2 = time.time()\n",
    "print(f\"Tiempo de ensamblaje: {t2-t1}\")\n",
    "\n",
    "t1 = time.time()\n",
    "u = np.linalg.solve(B, b)\n",
    "t2 = time.time()\n",
    "\n",
    "print(f\"Tiempo de invertir matriz: {t2-t1}\")"
   ]
  },
  {
   "cell_type": "code",
   "execution_count": 30,
   "metadata": {},
   "outputs": [
    {
     "data": {
      "image/png": "[encoded data removed]",
      "text/plain": [
       "<Figure size 432x288 with 1 Axes>"
      ]
     },
     "metadata": {
      "needs_background": "light"
     },
     "output_type": "display_data"
    }
   ],
   "source": [
    "t = x[1:-1]\n",
    "g = lambda x: np.sin(2*np.pi*x)\n",
    "\n",
    "#plt.plot(t, u)\n",
    "#plt.plot(t, g(t))\n",
    "plt.plot(t, abs(g(t)-u))\n",
    "plt.yscale(\"log\")\n",
    "plt.show()"
   ]
  },
  {
   "cell_type": "code",
   "execution_count": null,
   "metadata": {},
   "outputs": [],
   "source": []
  }
 ],
 "metadata": {
  "kernelspec": {
   "display_name": "Python 3",
   "language": "python",
   "name": "python3"
  },
  "language_info": {
   "codemirror_mode": {
    "name": "ipython",
    "version": 3
   },
   "file_extension": ".py",
   "mimetype": "text/x-python",
   "name": "python",
   "nbconvert_exporter": "python",
   "pygments_lexer": "ipython3",
   "version": "3.8.5"
  }
 },
 "nbformat": 4,
 "nbformat_minor": 4
}
