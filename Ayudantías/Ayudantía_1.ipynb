{
 "cells": [
  {
   "cell_type": "markdown",
   "metadata": {},
   "source": [
    "# Ayudantía 1"
   ]
  },
  {
   "cell_type": "code",
   "execution_count": 1,
   "metadata": {},
   "outputs": [],
   "source": [
    "import numpy as np\n",
    "import scipy.linalg as LA\n",
    "import matplotlib.pyplot as plt"
   ]
  },
  {
   "cell_type": "markdown",
   "metadata": {},
   "source": [
    "## Problema 1: Cómo evitar perdida de información por cancelación.\n",
    "\n",
    "Queremos calcular las raíces del polinomio:\n",
    "\n",
    "$$p(x)=x^{2}-56x + 1$$\n",
    "\n",
    "Sabemos, por álgebra de colegio, que sus raíces son:\n",
    "\n",
    "$$x_{1,2}=28 \\pm \\sqrt{783}$$\n",
    "\n",
    "Esta solución es la que se conoce como solución exacta. En particular, para calcularlas habrá que aproximar $\\sqrt{783}$ por algún valor numérico. Tomaremos la siguiente aproximación como demostración:\n",
    "\n",
    "$$\\sqrt{783}\\approx 27.982 (\\pm 0.0001)$$"
   ]
  },
  {
   "cell_type": "markdown",
   "metadata": {
    "solution2": "shown",
    "solution2_first": true
   },
   "source": [
    "### Calcule los errores relativos que se obtienen con esta aproximación"
   ]
  },
  {
   "cell_type": "code",
   "execution_count": 2,
   "metadata": {
    "solution2": "shown"
   },
   "outputs": [],
   "source": [
    "raiz_1 = 28 + np.sqrt(783)\n",
    "raiz_2 = 28 - np.sqrt(783) #Asumiremos estas raíces calculadas como las más certeras"
   ]
  },
  {
   "cell_type": "code",
   "execution_count": 3,
   "metadata": {
    "scrolled": true,
    "solution2": "shown"
   },
   "outputs": [
    {
     "name": "stdout",
     "output_type": "stream",
     "text": [
      "Error absoluto raíz 1: \n",
      "0.0001\n",
      "Error absoluto raíz 2:\n",
      "0.0001\n"
     ]
    }
   ],
   "source": [
    "x1 = 28 + 27.982\n",
    "x2 = 28 - 27.982\n",
    "\n",
    "print(\"Error absoluto raíz 1: \")\n",
    "print(f\"{abs(raiz_1-x1):.4f}\")\n",
    "\n",
    "print(\"Error absoluto raíz 2:\")\n",
    "print(f\"{abs(raiz_2-x2):.4f}\")"
   ]
  },
  {
   "cell_type": "code",
   "execution_count": 4,
   "metadata": {
    "solution2": "shown"
   },
   "outputs": [
    {
     "name": "stdout",
     "output_type": "stream",
     "text": [
      "Error relativo raíz 1: \n",
      "2.45e-06\n",
      "\n",
      "Error relativo raíz 2: \n",
      "7.68e-03\n"
     ]
    }
   ],
   "source": [
    "print(\"Error relativo raíz 1: \")\n",
    "print(f\"{abs(raiz_1-x1)/abs(raiz_1):.2e}\")\n",
    "\n",
    "print(\"\\nError relativo raíz 2: \")\n",
    "print(f\"{abs(raiz_2-x2)/abs(raiz_2):.2e}\")"
   ]
  },
  {
   "cell_type": "markdown",
   "metadata": {
    "solution2": "shown"
   },
   "source": [
    "Notamos inmediatamente que el error relativo difiere en un orden de $10^{3}$ entre ambas soluciones. Nos gustaría que esto no fuera así. Para esto revisaremos formas de cómo evitar esto."
   ]
  },
  {
   "cell_type": "markdown",
   "metadata": {
    "solution2": "shown",
    "solution2_first": true
   },
   "source": [
    "### Utilice su conocimiento sobre polinomios de grado 2 para encontrar otra fórmula para calcular $x_2$, la raíz que tiene mayor error relativo."
   ]
  },
  {
   "cell_type": "markdown",
   "metadata": {
    "solution2": "shown"
   },
   "source": [
    "Tenemos que para polinomios de grado 2 se cumple la siguiente relación:\n",
    "\n",
    "$$x_1x_2=c$$\n",
    "\n",
    "Con esto, tenemos lo siguiente:\n",
    "\n",
    "$$x_2=\\frac{c}{x_1}$$\n",
    "\n",
    "Que para el caso que estudiamos significa que:\n",
    "\n",
    "$$x_2 = \\frac{1}{x_1}$$\n",
    "\n",
    "El cálculo de $x_2$ por este método es ventajoso ya que el error relativo se acota en términos del error relativo en $x_1$. Veamos esto:"
   ]
  },
  {
   "cell_type": "code",
   "execution_count": 5,
   "metadata": {
    "solution2": "shown"
   },
   "outputs": [
    {
     "name": "stdout",
     "output_type": "stream",
     "text": [
      "Error absoluto raíz 2: \n",
      "4.38e-08\n",
      "\n",
      "Error relativo raíz 2: \n",
      "2.45e-06\n"
     ]
    }
   ],
   "source": [
    "x21 = 1/x1\n",
    "print(\"Error absoluto raíz 2: \")\n",
    "print(f\"{abs(raiz_2-x21):.2e}\")\n",
    "\n",
    "print(\"\\nError relativo raíz 2: \")\n",
    "print(f\"{abs(raiz_2-x21)/abs(raiz_2):.2e}\")"
   ]
  },
  {
   "cell_type": "markdown",
   "metadata": {
    "solution2": "shown",
    "solution2_first": true
   },
   "source": [
    "### Revise el valor de $x_2$ y encuentre una forma de representarlo sin usar restas."
   ]
  },
  {
   "cell_type": "markdown",
   "metadata": {
    "solution2": "shown"
   },
   "source": [
    "Vemos que:\n",
    "\n",
    "$$\\begin{align*}\n",
    "x_2=\n",
    "28-\\sqrt{783} \n",
    "&= \\sqrt{784}-\\sqrt{783}\\\\\n",
    "&=\\frac{\\sqrt{784}-\\sqrt{783}}{\\sqrt{784}+\\sqrt{783}}(\\sqrt{784}+\\sqrt{783})\\\\\n",
    "&=\\frac{784-783}{\\sqrt{784}+\\sqrt{783}}\\\\\n",
    "&=\\frac{1}{28+\\sqrt{783}} = \\frac{1}{x_1}\n",
    "\\end{align*}$$\n",
    "\n",
    "Es decir, obtenemos la misma formula revisada anteriormente, y ya sabemos como mejora el error relativo obtenido."
   ]
  },
  {
   "cell_type": "markdown",
   "metadata": {
    "solution2": "shown",
    "solution2_first": true
   },
   "source": [
    "### Utilice series de Taylor para aproximar la raíz problemática."
   ]
  },
  {
   "cell_type": "markdown",
   "metadata": {
    "solution2": "shown"
   },
   "source": [
    "Vemos la función $f(x)=\\sqrt{x}$ y su serie de Taylor:\n",
    "\n",
    "$$f(x+h) = f(x) + f'(x)h + \\frac{1}{2}f''(x)h^2+\\dots$$\n",
    "\n",
    "Entonces, tomando la aproximación de primer orden:\n",
    "\n",
    "$$f(x+h)-f(x) \\approx f'(x)h$$\n",
    "\n",
    "Lo cual, reemplazando con $x=783$ y $h=1$:\n",
    "\n",
    "$$28-\\sqrt{783} \\approx \\frac{1}{2\\sqrt{783}}$$\n",
    "\n",
    "Para una aproximación de segundo orden:\n",
    "\n",
    "$$f(x+h)-f(x) \\approx f'(x)h + \\frac{1}{2}f''(x)h^2$$\n",
    "\n",
    "Entonces:\n",
    "\n",
    "$$28-\\sqrt{783} \\approx \\frac{1}{2\\sqrt{783}} - \\frac{1}{4\\cdot783^{3/2}}$$\n",
    "\n",
    "Veremos como cambia el error relativo con ambas aproximaciones. Notemos que con esta última aproximación hay una resta!"
   ]
  },
  {
   "cell_type": "code",
   "execution_count": 6,
   "metadata": {
    "solution2": "shown"
   },
   "outputs": [
    {
     "name": "stdout",
     "output_type": "stream",
     "text": [
      "Error absoluto raíz 2: \n",
      "5.79e-06\n",
      "\n",
      "Error relativo raíz 2: \n",
      "3.24e-04\n"
     ]
    }
   ],
   "source": [
    "x22 = 0.5/27.982\n",
    "print(\"Error absoluto raíz 2: \")\n",
    "print(f\"{abs(raiz_2-x22):.2e}\")\n",
    "\n",
    "print(\"\\nError relativo raíz 2: \")\n",
    "print(f\"{abs(raiz_2-x22)/abs(raiz_2):.2e}\")"
   ]
  },
  {
   "cell_type": "code",
   "execution_count": 7,
   "metadata": {
    "solution2": "shown"
   },
   "outputs": [
    {
     "name": "stdout",
     "output_type": "stream",
     "text": [
      "Error absoluto raíz 2: \n",
      "5.62e-06\n",
      "\n",
      "Error relativo raíz 2: \n",
      "3.15e-04\n"
     ]
    }
   ],
   "source": [
    "x23 = (0.5/27.982) - (0.25)/(27.982**3)\n",
    "\n",
    "print(\"Error absoluto raíz 2: \")\n",
    "print(f\"{abs(raiz_2-x23):.2e}\")\n",
    "\n",
    "print(\"\\nError relativo raíz 2: \")\n",
    "print(f\"{abs(raiz_2-x23)/abs(raiz_2):.2e}\")"
   ]
  },
  {
   "cell_type": "markdown",
   "metadata": {
    "solution2": "shown",
    "solution2_first": true
   },
   "source": [
    "### Escriba una rutina que calcule las raíces de un polinomio de grado 2 con menor error relativo"
   ]
  },
  {
   "cell_type": "code",
   "execution_count": 12,
   "metadata": {
    "solution2": "shown"
   },
   "outputs": [],
   "source": [
    "def calculator(a, b, c, dec=3):\n",
    "    \"\"\"\n",
    "    input:  coeficientes a, b y c de un polinomio\n",
    "            p(x) = ax^2 + bx + c\n",
    "    output: raíces x1, x2\n",
    "    \"\"\"\n",
    "    delta = np.around(np.sqrt(b**2 - 4*a*c), decimals=dec)\n",
    "    x1 = (-b + delta)/(2*a)\n",
    "    x2 = c/x1\n",
    "    return x1, x2"
   ]
  },
  {
   "cell_type": "code",
   "execution_count": 15,
   "metadata": {
    "solution2": "shown"
   },
   "outputs": [
    {
     "name": "stdout",
     "output_type": "stream",
     "text": [
      "Error absoluto raíz 1: \n",
      "2.14e-03\n",
      "\n",
      "Error relativo raíz 1: \n",
      "3.82e-05\n",
      "\n",
      "Error absoluto raíz 2:\n",
      "6.82e-07\n",
      "\n",
      "Error relativo raíz 2: \n",
      "3.82e-05\n"
     ]
    }
   ],
   "source": [
    "x1, x2 = calculator(1, -56, 1, dec=2)\n",
    "\n",
    "print(\"Error absoluto raíz 1: \")\n",
    "print(f\"{abs(raiz_1-x1):.2e}\")\n",
    "\n",
    "print(\"\\nError relativo raíz 1: \")\n",
    "print(f\"{abs(raiz_1-x1)/abs(raiz_1):.2e}\")\n",
    "\n",
    "print(\"\\nError absoluto raíz 2:\")\n",
    "print(f\"{abs(raiz_2-x2):.2e}\")\n",
    "\n",
    "print(\"\\nError relativo raíz 2: \")\n",
    "print(f\"{abs(raiz_2-x2)/abs(raiz_2):.2e}\")"
   ]
  },
  {
   "cell_type": "markdown",
   "metadata": {
    "solution2": "shown",
    "solution2_first": true
   },
   "source": [
    "## Problema 2\n",
    "\n",
    "Estime una cota para el backward error generado al calcular la solución del siguiente sistema:\n",
    "\n",
    "$$\\begin{pmatrix}2&1\\\\3&6\\end{pmatrix}x=\\begin{pmatrix}5.224\\\\21.357\\end{pmatrix}$$\n",
    "\n",
    "cuando por medio de un algoritmo se obtuvo la siguiente solución computada:\n",
    "\n",
    "$$x_c = \\begin{pmatrix}1\\\\3\\end{pmatrix}$$"
   ]
  },
  {
   "cell_type": "markdown",
   "metadata": {
    "solution2": "shown"
   },
   "source": [
    "Aquí, podemos ver que tan buena es la aproximación $x_c$ simplemente poniendo esta donde aparece $x$. Así:\n",
    "\n",
    "$$\\|Ax_c-b\\| = \\|r\\|$$\n",
    "\n",
    "mide el error obtenido por la aproximación obtenida por el algoritmo externo. Se mide entonces este para obtener una cota para el backward error:"
   ]
  },
  {
   "cell_type": "code",
   "execution_count": 22,
   "metadata": {
    "solution2": "shown"
   },
   "outputs": [
    {
     "name": "stdout",
     "output_type": "stream",
     "text": [
      "Cota de backward error: 0.42\n"
     ]
    }
   ],
   "source": [
    "A = np.array([[2, 1], [3, 6]])\n",
    "b = np.array([5.224, 21.357])\n",
    "\n",
    "xc = np.array([1, 3])\n",
    "\n",
    "print(f\"Cota de backward error: {np.linalg.norm(A@xc-b, 2):.2f}\")"
   ]
  },
  {
   "cell_type": "markdown",
   "metadata": {},
   "source": [
    "## Problema 3: Perturbación de la matriz identidad\n",
    "\n",
    "Sea $E$ una matriz cuadrada."
   ]
  },
  {
   "cell_type": "markdown",
   "metadata": {
    "solution2": "shown",
    "solution2_first": true
   },
   "source": [
    "### Muestre que si (I-E) es invertible, entonces:\n",
    "\n",
    "$$\\frac{\\|(I-E)^{-1}-I\\|}{\\|(I-E)^{-1}\\|}\\leq \\|E\\|$$"
   ]
  },
  {
   "cell_type": "markdown",
   "metadata": {
    "solution2": "shown"
   },
   "source": [
    "Como $(I-E)$ invertible, podemos escribir:\n",
    "\n",
    "$$\\begin{align*}E &= I - (I-E)\\\\ &= (I-E)((I-E)^{-1}-I) \\end{align*}$$\n",
    "\n",
    "Multiplicamos esta ecuación por la izquierda por $(I-E)^{-1}$ y obtenemos:\n",
    "\n",
    "$$(I-E)^{-1}E = (I-E)^{-1}-I$$\n",
    "\n",
    "De esta forma:\n",
    "\n",
    "$$\\|(I-E)^{-1}-I\\|=\\|(I-E)^{-1}E\\|\\leq \\|(I-E)^{-1}\\|\\|E\\|$$\n",
    "\n",
    "De donde es fácil obtener la desigualdad pedida."
   ]
  },
  {
   "cell_type": "markdown",
   "metadata": {
    "solution2": "shown",
    "solution2_first": true
   },
   "source": [
    "### Muestre que :\n",
    "\n",
    "$$\\frac{1}{1+\\|E\\|}\\leq \\|(I-E)^{-1}\\|$$"
   ]
  },
  {
   "cell_type": "markdown",
   "metadata": {
    "solution2": "shown"
   },
   "source": [
    "Con la parte anterior, tenemos que:\n",
    "\n",
    "$$\\begin{align*}\n",
    "\\|(I-E)^{-1}\\|&\\geq \\frac{\\|(I-E)^{-1}-I\\|}{\\|E\\|}\\\\\n",
    "&= \\frac{\\|(I-E)^{-1}-I\\|}{\\|E\\|}\\cdot\\frac{\\|I-E\\|}{\\|I-E\\|}\\\\\n",
    "&\\geq\\frac{\\|E\\|}{\\|E\\|\\|I-E\\|}\\\\\n",
    "&= \\frac{1}{\\|I-E\\|}\n",
    "\\end{align*}$$\n",
    "\n",
    "2do paso:\n",
    "\n",
    "$$\\|E\\| = \\|I - (I-E)\\| = \\|(I-E)((I-E)^{-1} - I)\\|\\leq \\|I-E\\|\\|(I-E)^{-1}-I\\|$$\n",
    "\n",
    "Recordamos que:\n",
    "\n",
    "$$\\|I-E\\|\\leq \\|I\\| + \\|E\\| = 1+\\|E\\|$$\n",
    "\n",
    "Así, aplicando esta desigualdad tenemos que:\n",
    "\n",
    "$$\\frac{1}{1+\\|E\\|}\\leq \\|(I-E)^{-1}\\|$$\n",
    "\n",
    "\n"
   ]
  },
  {
   "cell_type": "markdown",
   "metadata": {
    "solution2": "shown",
    "solution2_first": true
   },
   "source": [
    "### Haga un programa que muestre estas cotas"
   ]
  },
  {
   "cell_type": "code",
   "execution_count": 27,
   "metadata": {},
   "outputs": [],
   "source": [
    "import pandas as pd"
   ]
  },
  {
   "cell_type": "code",
   "execution_count": 54,
   "metadata": {
    "solution2": "shown"
   },
   "outputs": [],
   "source": [
    "#Lazy functions. Podríamos reportar en una tabla!! ¿Cómo lo harían?\n",
    "\n",
    "def cota_1(n, p):\n",
    "    \n",
    "    E = np.random.random(size=(n,n))/1000\n",
    "    I = np.identity(n)\n",
    "    I_E_inv = np.linalg.inv(I-E)\n",
    "    \n",
    "    norma_E = np.linalg.norm(E, ord=p)\n",
    "    norma_I_E_I = np.linalg.norm(I_E_inv - I, ord=p)\n",
    "    norma_I_E = np.linalg.norm(I_E_inv, ord=p)\n",
    "    \n",
    "    l_izq = norma_I_E_I/norma_I_E\n",
    "    l_der = norma_E\n",
    "    \n",
    "    #print(f\"lado_izquierdo: {l_izq:.3f}\")\n",
    "    #print(f\"lado_derecho: {l_der:.3f}\")\n",
    "    #print(f\"Se cumple? {l_izq <= l_der}\")\n",
    "    \n",
    "    return l_izq, l_der\n",
    "\n",
    "def cota_2(n, p):\n",
    "    \n",
    "    E = np.random.random(size=(n,n))/1000\n",
    "    I = np.identity(n)\n",
    "    I_E_inv = np.linalg.inv(I-E)\n",
    "    \n",
    "    print(E)\n",
    "    \n",
    "    norma_E = np.linalg.norm(E, ord=p)\n",
    "    norma_I_E = np.linalg.norm(I_E_inv, ord=p)\n",
    "    \n",
    "    l_izq = 1/(1+norma_E)\n",
    "    l_der = norma_I_E\n",
    "    \n",
    "    #print(f\"lado_izquierdo: {l_izq:.3f}\")\n",
    "    #print(f\"lado_derecho: {l_der:.3f}\")\n",
    "    #print(f\"Se cumple? {l_izq <= l_der}\")\n",
    "    \n",
    "    return l_izq, l_der\n",
    "\n",
    "\n",
    "def rutina_2(n):\n",
    "    \n",
    "    normas = [1, 2, np.inf] #indices\n",
    "    cota_1_izq, cota_1_der = [], []\n",
    "    cota_2_izq, cota_2_der = [], []\n",
    "    \n",
    "    for p in normas:\n",
    "        lic1, ldc1 = cota_1(n, p)\n",
    "        lic2, ldc2 = cota_2(n, p)\n",
    "        cota_1_izq.append(lic1)\n",
    "        cota_1_der.append(ldc1)\n",
    "        cota_2_izq.append(lic2)\n",
    "        cota_2_der.append(ldc2)\n",
    "        \n",
    "    tabla = pd.DataFrame(data={\"p\":normas, \n",
    "                               \"Cota 1 izq\": cota_1_izq,\n",
    "                               \"Cota 1 der\": cota_1_der,\n",
    "                               \"True?\": np.array(cota_1_izq)<=np.array(cota_1_der),\n",
    "                               \"Cota 2 izq\": cota_2_izq,\n",
    "                               \"Cota 2 der\": cota_2_der,\n",
    "                               \"True_2?\": np.array(cota_2_izq)<=np.array(cota_2_der)})\n",
    "    return tabla\n",
    "    "
   ]
  },
  {
   "cell_type": "code",
   "execution_count": 55,
   "metadata": {
    "scrolled": true
   },
   "outputs": [
    {
     "name": "stdout",
     "output_type": "stream",
     "text": [
      "[[0.00013544 0.00095427]\n",
      " [0.00013048 0.0008721 ]]\n",
      "[[0.00021591 0.00011575]\n",
      " [0.0002467  0.00043843]]\n",
      "[[0.00067206 0.00069819]\n",
      " [0.0009383  0.0003229 ]]\n"
     ]
    },
    {
     "data": {
      "text/html": [
       "<div>\n",
       "<style scoped>\n",
       "    .dataframe tbody tr th:only-of-type {\n",
       "        vertical-align: middle;\n",
       "    }\n",
       "\n",
       "    .dataframe tbody tr th {\n",
       "        vertical-align: top;\n",
       "    }\n",
       "\n",
       "    .dataframe thead th {\n",
       "        text-align: right;\n",
       "    }\n",
       "</style>\n",
       "<table border=\"1\" class=\"dataframe\">\n",
       "  <thead>\n",
       "    <tr style=\"text-align: right;\">\n",
       "      <th></th>\n",
       "      <th>p</th>\n",
       "      <th>Cota 1 izq</th>\n",
       "      <th>Cota 1 der</th>\n",
       "      <th>True?</th>\n",
       "      <th>Cota 2 izq</th>\n",
       "      <th>Cota 2 der</th>\n",
       "      <th>True_2?</th>\n",
       "    </tr>\n",
       "  </thead>\n",
       "  <tbody>\n",
       "    <tr>\n",
       "      <th>0</th>\n",
       "      <td>1.0</td>\n",
       "      <td>0.000874</td>\n",
       "      <td>0.000874</td>\n",
       "      <td>True</td>\n",
       "      <td>0.998177</td>\n",
       "      <td>1.001828</td>\n",
       "      <td>True</td>\n",
       "    </tr>\n",
       "    <tr>\n",
       "      <th>1</th>\n",
       "      <td>2.0</td>\n",
       "      <td>0.000881</td>\n",
       "      <td>0.000881</td>\n",
       "      <td>True</td>\n",
       "      <td>0.999454</td>\n",
       "      <td>1.000540</td>\n",
       "      <td>True</td>\n",
       "    </tr>\n",
       "    <tr>\n",
       "      <th>2</th>\n",
       "      <td>inf</td>\n",
       "      <td>0.001983</td>\n",
       "      <td>0.001985</td>\n",
       "      <td>True</td>\n",
       "      <td>0.998632</td>\n",
       "      <td>1.001372</td>\n",
       "      <td>True</td>\n",
       "    </tr>\n",
       "  </tbody>\n",
       "</table>\n",
       "</div>"
      ],
      "text/plain": [
       "     p  Cota 1 izq  Cota 1 der  True?  Cota 2 izq  Cota 2 der  True_2?\n",
       "0  1.0    0.000874    0.000874   True    0.998177    1.001828     True\n",
       "1  2.0    0.000881    0.000881   True    0.999454    1.000540     True\n",
       "2  inf    0.001983    0.001985   True    0.998632    1.001372     True"
      ]
     },
     "execution_count": 55,
     "metadata": {},
     "output_type": "execute_result"
    }
   ],
   "source": [
    "rutina_2(2)"
   ]
  },
  {
   "cell_type": "code",
   "execution_count": null,
   "metadata": {},
   "outputs": [],
   "source": []
  }
 ],
 "metadata": {
  "kernelspec": {
   "display_name": "Python 3",
   "language": "python",
   "name": "python3"
  },
  "language_info": {
   "codemirror_mode": {
    "name": "ipython",
    "version": 3
   },
   "file_extension": ".py",
   "mimetype": "text/x-python",
   "name": "python",
   "nbconvert_exporter": "python",
   "pygments_lexer": "ipython3",
   "version": "3.8.5"
  }
 },
 "nbformat": 4,
 "nbformat_minor": 4
}
